{
  "nbformat": 4,
  "nbformat_minor": 0,
  "metadata": {
    "colab": {
      "provenance": []
    },
    "kernelspec": {
      "name": "python3",
      "display_name": "Python 3"
    },
    "language_info": {
      "name": "python"
    }
  },
  "cells": [
    {
      "cell_type": "code",
      "execution_count": 73,
      "metadata": {
        "id": "-qAR_bSIEOYm"
      },
      "outputs": [],
      "source": [
        "import numpy as np\n",
        "import pandas as pd"
      ]
    },
    {
      "cell_type": "markdown",
      "source": [
        "Generating random dataset"
      ],
      "metadata": {
        "id": "inDxiDOX9H3D"
      }
    },
    {
      "cell_type": "code",
      "source": [
        "X=np.vstack([(np.random.rand(10,2)*5),(np.random.rand(10,2)*10)])\n",
        "print(X)\n",
        "y=np.random.randint(0,2,20)\n",
        "y=y.reshape(20,1)\n",
        "print(y)\n"
      ],
      "metadata": {
        "colab": {
          "base_uri": "https://localhost:8080/"
        },
        "id": "tkjnhVp3_LV1",
        "outputId": "9ae93b9d-2102-4528-875a-5128efb3bf51"
      },
      "execution_count": 74,
      "outputs": [
        {
          "output_type": "stream",
          "name": "stdout",
          "text": [
            "[[4.34425465 2.80675228]\n",
            " [4.2851287  4.26737488]\n",
            " [3.19025196 1.36400652]\n",
            " [0.07662999 4.77266825]\n",
            " [1.77132387 3.25834262]\n",
            " [4.29498808 0.52841056]\n",
            " [1.62853178 1.5922779 ]\n",
            " [2.41972014 2.70589021]\n",
            " [4.67861826 2.52336408]\n",
            " [4.16750825 1.47068213]\n",
            " [6.44768342 6.42856136]\n",
            " [4.07072098 7.05627918]\n",
            " [0.77012842 6.79071217]\n",
            " [1.14956252 0.45372655]\n",
            " [2.70376211 8.36134064]\n",
            " [1.74335643 5.00026734]\n",
            " [7.77758481 4.02236024]\n",
            " [0.11833114 2.18243356]\n",
            " [6.65690018 8.38745362]\n",
            " [2.98395861 8.3586099 ]]\n",
            "[[0]\n",
            " [1]\n",
            " [0]\n",
            " [1]\n",
            " [1]\n",
            " [0]\n",
            " [1]\n",
            " [0]\n",
            " [0]\n",
            " [0]\n",
            " [0]\n",
            " [0]\n",
            " [0]\n",
            " [0]\n",
            " [0]\n",
            " [1]\n",
            " [0]\n",
            " [0]\n",
            " [1]\n",
            " [1]]\n"
          ]
        }
      ]
    },
    {
      "cell_type": "markdown",
      "source": [
        "Random dataset\n"
      ],
      "metadata": {
        "id": "R_WjUnNBg5Pl"
      }
    },
    {
      "cell_type": "code",
      "source": [
        "dataset=pd.DataFrame(X,columns=[\"x1\" , \"x2\"])\n",
        "dataset[\"y\"]=y"
      ],
      "metadata": {
        "id": "zgnkzUH2V9h3"
      },
      "execution_count": 75,
      "outputs": []
    },
    {
      "cell_type": "code",
      "source": [
        "y=np.random.randint(0,2,20)\n",
        "y=y.reshape(20,1)\n",
        "y"
      ],
      "metadata": {
        "colab": {
          "base_uri": "https://localhost:8080/"
        },
        "id": "dk3f6VkiB40I",
        "outputId": "ef88cf27-23b9-4a64-a691-4c4261cce83b"
      },
      "execution_count": 76,
      "outputs": [
        {
          "output_type": "execute_result",
          "data": {
            "text/plain": [
              "array([[1],\n",
              "       [0],\n",
              "       [1],\n",
              "       [0],\n",
              "       [0],\n",
              "       [0],\n",
              "       [0],\n",
              "       [1],\n",
              "       [0],\n",
              "       [1],\n",
              "       [0],\n",
              "       [1],\n",
              "       [1],\n",
              "       [1],\n",
              "       [1],\n",
              "       [1],\n",
              "       [1],\n",
              "       [1],\n",
              "       [0],\n",
              "       [1]])"
            ]
          },
          "metadata": {},
          "execution_count": 76
        }
      ]
    },
    {
      "cell_type": "markdown",
      "source": [
        "Dataset"
      ],
      "metadata": {
        "id": "UH-ud4BAhEOq"
      }
    },
    {
      "cell_type": "code",
      "source": [
        "dataset"
      ],
      "metadata": {
        "colab": {
          "base_uri": "https://localhost:8080/",
          "height": 677
        },
        "id": "zv2YTsRmTX6s",
        "outputId": "95f1a93b-e533-486e-e718-fcb23a19271f"
      },
      "execution_count": 77,
      "outputs": [
        {
          "output_type": "execute_result",
          "data": {
            "text/plain": [
              "          x1        x2  y\n",
              "0   4.344255  2.806752  0\n",
              "1   4.285129  4.267375  1\n",
              "2   3.190252  1.364007  0\n",
              "3   0.076630  4.772668  1\n",
              "4   1.771324  3.258343  1\n",
              "5   4.294988  0.528411  0\n",
              "6   1.628532  1.592278  1\n",
              "7   2.419720  2.705890  0\n",
              "8   4.678618  2.523364  0\n",
              "9   4.167508  1.470682  0\n",
              "10  6.447683  6.428561  0\n",
              "11  4.070721  7.056279  0\n",
              "12  0.770128  6.790712  0\n",
              "13  1.149563  0.453727  0\n",
              "14  2.703762  8.361341  0\n",
              "15  1.743356  5.000267  1\n",
              "16  7.777585  4.022360  0\n",
              "17  0.118331  2.182434  0\n",
              "18  6.656900  8.387454  1\n",
              "19  2.983959  8.358610  1"
            ],
            "text/html": [
              "\n",
              "  <div id=\"df-e05ede8c-b12a-4173-be78-65eeffcdecb0\">\n",
              "    <div class=\"colab-df-container\">\n",
              "      <div>\n",
              "<style scoped>\n",
              "    .dataframe tbody tr th:only-of-type {\n",
              "        vertical-align: middle;\n",
              "    }\n",
              "\n",
              "    .dataframe tbody tr th {\n",
              "        vertical-align: top;\n",
              "    }\n",
              "\n",
              "    .dataframe thead th {\n",
              "        text-align: right;\n",
              "    }\n",
              "</style>\n",
              "<table border=\"1\" class=\"dataframe\">\n",
              "  <thead>\n",
              "    <tr style=\"text-align: right;\">\n",
              "      <th></th>\n",
              "      <th>x1</th>\n",
              "      <th>x2</th>\n",
              "      <th>y</th>\n",
              "    </tr>\n",
              "  </thead>\n",
              "  <tbody>\n",
              "    <tr>\n",
              "      <th>0</th>\n",
              "      <td>4.344255</td>\n",
              "      <td>2.806752</td>\n",
              "      <td>0</td>\n",
              "    </tr>\n",
              "    <tr>\n",
              "      <th>1</th>\n",
              "      <td>4.285129</td>\n",
              "      <td>4.267375</td>\n",
              "      <td>1</td>\n",
              "    </tr>\n",
              "    <tr>\n",
              "      <th>2</th>\n",
              "      <td>3.190252</td>\n",
              "      <td>1.364007</td>\n",
              "      <td>0</td>\n",
              "    </tr>\n",
              "    <tr>\n",
              "      <th>3</th>\n",
              "      <td>0.076630</td>\n",
              "      <td>4.772668</td>\n",
              "      <td>1</td>\n",
              "    </tr>\n",
              "    <tr>\n",
              "      <th>4</th>\n",
              "      <td>1.771324</td>\n",
              "      <td>3.258343</td>\n",
              "      <td>1</td>\n",
              "    </tr>\n",
              "    <tr>\n",
              "      <th>5</th>\n",
              "      <td>4.294988</td>\n",
              "      <td>0.528411</td>\n",
              "      <td>0</td>\n",
              "    </tr>\n",
              "    <tr>\n",
              "      <th>6</th>\n",
              "      <td>1.628532</td>\n",
              "      <td>1.592278</td>\n",
              "      <td>1</td>\n",
              "    </tr>\n",
              "    <tr>\n",
              "      <th>7</th>\n",
              "      <td>2.419720</td>\n",
              "      <td>2.705890</td>\n",
              "      <td>0</td>\n",
              "    </tr>\n",
              "    <tr>\n",
              "      <th>8</th>\n",
              "      <td>4.678618</td>\n",
              "      <td>2.523364</td>\n",
              "      <td>0</td>\n",
              "    </tr>\n",
              "    <tr>\n",
              "      <th>9</th>\n",
              "      <td>4.167508</td>\n",
              "      <td>1.470682</td>\n",
              "      <td>0</td>\n",
              "    </tr>\n",
              "    <tr>\n",
              "      <th>10</th>\n",
              "      <td>6.447683</td>\n",
              "      <td>6.428561</td>\n",
              "      <td>0</td>\n",
              "    </tr>\n",
              "    <tr>\n",
              "      <th>11</th>\n",
              "      <td>4.070721</td>\n",
              "      <td>7.056279</td>\n",
              "      <td>0</td>\n",
              "    </tr>\n",
              "    <tr>\n",
              "      <th>12</th>\n",
              "      <td>0.770128</td>\n",
              "      <td>6.790712</td>\n",
              "      <td>0</td>\n",
              "    </tr>\n",
              "    <tr>\n",
              "      <th>13</th>\n",
              "      <td>1.149563</td>\n",
              "      <td>0.453727</td>\n",
              "      <td>0</td>\n",
              "    </tr>\n",
              "    <tr>\n",
              "      <th>14</th>\n",
              "      <td>2.703762</td>\n",
              "      <td>8.361341</td>\n",
              "      <td>0</td>\n",
              "    </tr>\n",
              "    <tr>\n",
              "      <th>15</th>\n",
              "      <td>1.743356</td>\n",
              "      <td>5.000267</td>\n",
              "      <td>1</td>\n",
              "    </tr>\n",
              "    <tr>\n",
              "      <th>16</th>\n",
              "      <td>7.777585</td>\n",
              "      <td>4.022360</td>\n",
              "      <td>0</td>\n",
              "    </tr>\n",
              "    <tr>\n",
              "      <th>17</th>\n",
              "      <td>0.118331</td>\n",
              "      <td>2.182434</td>\n",
              "      <td>0</td>\n",
              "    </tr>\n",
              "    <tr>\n",
              "      <th>18</th>\n",
              "      <td>6.656900</td>\n",
              "      <td>8.387454</td>\n",
              "      <td>1</td>\n",
              "    </tr>\n",
              "    <tr>\n",
              "      <th>19</th>\n",
              "      <td>2.983959</td>\n",
              "      <td>8.358610</td>\n",
              "      <td>1</td>\n",
              "    </tr>\n",
              "  </tbody>\n",
              "</table>\n",
              "</div>\n",
              "      <button class=\"colab-df-convert\" onclick=\"convertToInteractive('df-e05ede8c-b12a-4173-be78-65eeffcdecb0')\"\n",
              "              title=\"Convert this dataframe to an interactive table.\"\n",
              "              style=\"display:none;\">\n",
              "        \n",
              "  <svg xmlns=\"http://www.w3.org/2000/svg\" height=\"24px\"viewBox=\"0 0 24 24\"\n",
              "       width=\"24px\">\n",
              "    <path d=\"M0 0h24v24H0V0z\" fill=\"none\"/>\n",
              "    <path d=\"M18.56 5.44l.94 2.06.94-2.06 2.06-.94-2.06-.94-.94-2.06-.94 2.06-2.06.94zm-11 1L8.5 8.5l.94-2.06 2.06-.94-2.06-.94L8.5 2.5l-.94 2.06-2.06.94zm10 10l.94 2.06.94-2.06 2.06-.94-2.06-.94-.94-2.06-.94 2.06-2.06.94z\"/><path d=\"M17.41 7.96l-1.37-1.37c-.4-.4-.92-.59-1.43-.59-.52 0-1.04.2-1.43.59L10.3 9.45l-7.72 7.72c-.78.78-.78 2.05 0 2.83L4 21.41c.39.39.9.59 1.41.59.51 0 1.02-.2 1.41-.59l7.78-7.78 2.81-2.81c.8-.78.8-2.07 0-2.86zM5.41 20L4 18.59l7.72-7.72 1.47 1.35L5.41 20z\"/>\n",
              "  </svg>\n",
              "      </button>\n",
              "      \n",
              "  <style>\n",
              "    .colab-df-container {\n",
              "      display:flex;\n",
              "      flex-wrap:wrap;\n",
              "      gap: 12px;\n",
              "    }\n",
              "\n",
              "    .colab-df-convert {\n",
              "      background-color: #E8F0FE;\n",
              "      border: none;\n",
              "      border-radius: 50%;\n",
              "      cursor: pointer;\n",
              "      display: none;\n",
              "      fill: #1967D2;\n",
              "      height: 32px;\n",
              "      padding: 0 0 0 0;\n",
              "      width: 32px;\n",
              "    }\n",
              "\n",
              "    .colab-df-convert:hover {\n",
              "      background-color: #E2EBFA;\n",
              "      box-shadow: 0px 1px 2px rgba(60, 64, 67, 0.3), 0px 1px 3px 1px rgba(60, 64, 67, 0.15);\n",
              "      fill: #174EA6;\n",
              "    }\n",
              "\n",
              "    [theme=dark] .colab-df-convert {\n",
              "      background-color: #3B4455;\n",
              "      fill: #D2E3FC;\n",
              "    }\n",
              "\n",
              "    [theme=dark] .colab-df-convert:hover {\n",
              "      background-color: #434B5C;\n",
              "      box-shadow: 0px 1px 3px 1px rgba(0, 0, 0, 0.15);\n",
              "      filter: drop-shadow(0px 1px 2px rgba(0, 0, 0, 0.3));\n",
              "      fill: #FFFFFF;\n",
              "    }\n",
              "  </style>\n",
              "\n",
              "      <script>\n",
              "        const buttonEl =\n",
              "          document.querySelector('#df-e05ede8c-b12a-4173-be78-65eeffcdecb0 button.colab-df-convert');\n",
              "        buttonEl.style.display =\n",
              "          google.colab.kernel.accessAllowed ? 'block' : 'none';\n",
              "\n",
              "        async function convertToInteractive(key) {\n",
              "          const element = document.querySelector('#df-e05ede8c-b12a-4173-be78-65eeffcdecb0');\n",
              "          const dataTable =\n",
              "            await google.colab.kernel.invokeFunction('convertToInteractive',\n",
              "                                                     [key], {});\n",
              "          if (!dataTable) return;\n",
              "\n",
              "          const docLinkHtml = 'Like what you see? Visit the ' +\n",
              "            '<a target=\"_blank\" href=https://colab.research.google.com/notebooks/data_table.ipynb>data table notebook</a>'\n",
              "            + ' to learn more about interactive tables.';\n",
              "          element.innerHTML = '';\n",
              "          dataTable['output_type'] = 'display_data';\n",
              "          await google.colab.output.renderOutput(dataTable, element);\n",
              "          const docLink = document.createElement('div');\n",
              "          docLink.innerHTML = docLinkHtml;\n",
              "          element.appendChild(docLink);\n",
              "        }\n",
              "      </script>\n",
              "    </div>\n",
              "  </div>\n",
              "  "
            ]
          },
          "metadata": {},
          "execution_count": 77
        }
      ]
    },
    {
      "cell_type": "markdown",
      "source": [
        "one hot encoding"
      ],
      "metadata": {
        "id": "FTxA-K4XhViM"
      }
    },
    {
      "cell_type": "code",
      "source": [
        "Z=np.zeros((20,2))\n",
        "for i in range(20):\n",
        "  Z[i,y[i]]=1"
      ],
      "metadata": {
        "id": "0MDaQABtgz__"
      },
      "execution_count": 78,
      "outputs": []
    },
    {
      "cell_type": "code",
      "source": [
        "X.shape"
      ],
      "metadata": {
        "colab": {
          "base_uri": "https://localhost:8080/"
        },
        "id": "8-d9dCKVW3ES",
        "outputId": "3bdfdd77-5fdb-4641-9a44-58020c252ca3"
      },
      "execution_count": 79,
      "outputs": [
        {
          "output_type": "execute_result",
          "data": {
            "text/plain": [
              "(20, 2)"
            ]
          },
          "metadata": {},
          "execution_count": 79
        }
      ]
    },
    {
      "cell_type": "markdown",
      "source": [
        "initiating weight and bias"
      ],
      "metadata": {
        "id": "Ycu9zUntiMhS"
      }
    },
    {
      "cell_type": "code",
      "source": [
        "wi_1=np.random.randn(2,2)\n",
        "bi_1=np.random.randn(2)\n",
        "wi_2=np.random.randn(2,2)\n",
        "bi_2=np.random.randn(2)"
      ],
      "metadata": {
        "id": "qWhlV_S_XXUd"
      },
      "execution_count": 80,
      "outputs": []
    },
    {
      "cell_type": "code",
      "source": [
        "wi_1"
      ],
      "metadata": {
        "colab": {
          "base_uri": "https://localhost:8080/"
        },
        "id": "Ax5KvCxBYpBv",
        "outputId": "b31957f6-0188-4945-fcde-28c9b019a6ad"
      },
      "execution_count": 81,
      "outputs": [
        {
          "output_type": "execute_result",
          "data": {
            "text/plain": [
              "array([[ 0.52167706, -0.91360408],\n",
              "       [ 1.75495262,  0.83007299]])"
            ]
          },
          "metadata": {},
          "execution_count": 81
        }
      ]
    },
    {
      "cell_type": "code",
      "source": [
        "bi_1"
      ],
      "metadata": {
        "colab": {
          "base_uri": "https://localhost:8080/"
        },
        "id": "-ZsG__ADZCna",
        "outputId": "3e32e269-68d1-4d1b-af11-25548541f65d"
      },
      "execution_count": 82,
      "outputs": [
        {
          "output_type": "execute_result",
          "data": {
            "text/plain": [
              "array([-0.36869033,  0.22380611])"
            ]
          },
          "metadata": {},
          "execution_count": 82
        }
      ]
    },
    {
      "cell_type": "code",
      "source": [
        "wi_2"
      ],
      "metadata": {
        "colab": {
          "base_uri": "https://localhost:8080/"
        },
        "id": "z9gBsMpOZE6l",
        "outputId": "17ab5a75-df0d-4dcd-ee21-75ff9565885d"
      },
      "execution_count": 83,
      "outputs": [
        {
          "output_type": "execute_result",
          "data": {
            "text/plain": [
              "array([[ 1.16555491, -1.15102825],\n",
              "       [-0.13370417,  0.4176708 ]])"
            ]
          },
          "metadata": {},
          "execution_count": 83
        }
      ]
    },
    {
      "cell_type": "code",
      "source": [
        "bi_2"
      ],
      "metadata": {
        "colab": {
          "base_uri": "https://localhost:8080/"
        },
        "id": "5Wm2gwluZHNo",
        "outputId": "a07e2a56-8595-4466-a73d-400464e668a8"
      },
      "execution_count": 84,
      "outputs": [
        {
          "output_type": "execute_result",
          "data": {
            "text/plain": [
              "array([-1.06280567,  3.14999781])"
            ]
          },
          "metadata": {},
          "execution_count": 84
        }
      ]
    },
    {
      "cell_type": "code",
      "source": [
        "X"
      ],
      "metadata": {
        "colab": {
          "base_uri": "https://localhost:8080/"
        },
        "id": "LjWiBbiBZI5X",
        "outputId": "1413512b-029c-456f-dba1-edd4cbdb461d"
      },
      "execution_count": 85,
      "outputs": [
        {
          "output_type": "execute_result",
          "data": {
            "text/plain": [
              "array([[4.34425465, 2.80675228],\n",
              "       [4.2851287 , 4.26737488],\n",
              "       [3.19025196, 1.36400652],\n",
              "       [0.07662999, 4.77266825],\n",
              "       [1.77132387, 3.25834262],\n",
              "       [4.29498808, 0.52841056],\n",
              "       [1.62853178, 1.5922779 ],\n",
              "       [2.41972014, 2.70589021],\n",
              "       [4.67861826, 2.52336408],\n",
              "       [4.16750825, 1.47068213],\n",
              "       [6.44768342, 6.42856136],\n",
              "       [4.07072098, 7.05627918],\n",
              "       [0.77012842, 6.79071217],\n",
              "       [1.14956252, 0.45372655],\n",
              "       [2.70376211, 8.36134064],\n",
              "       [1.74335643, 5.00026734],\n",
              "       [7.77758481, 4.02236024],\n",
              "       [0.11833114, 2.18243356],\n",
              "       [6.65690018, 8.38745362],\n",
              "       [2.98395861, 8.3586099 ]])"
            ]
          },
          "metadata": {},
          "execution_count": 85
        }
      ]
    },
    {
      "cell_type": "code",
      "source": [
        "X.dot(wi_1.T)"
      ],
      "metadata": {
        "colab": {
          "base_uri": "https://localhost:8080/"
        },
        "id": "5PPW8rXPZYK2",
        "outputId": "f8c5735e-8e80-4ccc-fd98-29d16ddaef6b"
      },
      "execution_count": 86,
      "outputs": [
        {
          "output_type": "execute_result",
          "data": {
            "text/plain": [
              "array([[-0.29796235,  9.95377033],\n",
              "       [-1.66323777, 11.06243045],\n",
              "       [ 0.41811933,  6.730966  ],\n",
              "       [-4.32035308,  4.096145  ],\n",
              "       [-2.05277608,  5.81325167],\n",
              "       [ 1.7578387 ,  7.97611992],\n",
              "       [-0.60514392,  4.179703  ],\n",
              "       [-1.20979985,  6.49258056],\n",
              "       [ 0.13537208, 10.30532973],\n",
              "       [ 0.83047224,  8.53455304],\n",
              "       [-2.50955138, 16.65155405],\n",
              "       [-4.32304371, 13.00114919],\n",
              "       [-5.80226402,  6.98832563],\n",
              "       [ 0.18517396,  2.39405392],\n",
              "       [-6.22846426, 11.68549742],\n",
              "       [-3.65879559,  7.21009479],\n",
              "       [ 0.38254283, 16.98814543],\n",
              "       [-1.93214957,  2.0192447 ],\n",
              "       [-4.19005975, 18.6447431 ],\n",
              "       [-6.07979737, 12.17496228]])"
            ]
          },
          "metadata": {},
          "execution_count": 86
        }
      ]
    },
    {
      "cell_type": "markdown",
      "source": [
        "forward propogation"
      ],
      "metadata": {
        "id": "ZkICH69SjC1d"
      }
    },
    {
      "cell_type": "code",
      "source": [
        "def forward_prop(X,wi_1,bi_1,wi_2,bi_2):\n",
        "  #first \n",
        "  M =1/(1+np.exp(-(X.dot(wi_1.T)+bi_1)))\n",
        "  #second\n",
        "  A=M.dot(wi_2)+bi_2\n",
        "  expA=np.exp(A)\n",
        "  Y=expA/expA.sum(axis=1,keepdims=True)\n",
        "  return Y,M"
      ],
      "metadata": {
        "id": "PcV9QTihZi3E"
      },
      "execution_count": 87,
      "outputs": []
    },
    {
      "cell_type": "code",
      "source": [
        "forward_prop(X,wi_1,bi_1,wi_2,bi_2)"
      ],
      "metadata": {
        "colab": {
          "base_uri": "https://localhost:8080/"
        },
        "id": "47UrsEypbGWw",
        "outputId": "1ee09223-d8f6-403c-e0e1-05760fa817e1"
      },
      "execution_count": 88,
      "outputs": [
        {
          "output_type": "execute_result",
          "data": {
            "text/plain": [
              "(array([[0.01837417, 0.98162583],\n",
              "        [0.01103377, 0.98896623],\n",
              "        [0.02720585, 0.97279415],\n",
              "        [0.0086988 , 0.9913012 ],\n",
              "        [0.01021181, 0.98978819],\n",
              "        [0.05167596, 0.94832404],\n",
              "        [0.01594558, 0.98405442],\n",
              "        [0.01252587, 0.98747413],\n",
              "        [0.02319415, 0.97680585],\n",
              "        [0.03412466, 0.96587534],\n",
              "        [0.00955732, 0.99044268],\n",
              "        [0.00863614, 0.99136386],\n",
              "        [0.00850177, 0.99149823],\n",
              "        [0.02473765, 0.97526235],\n",
              "        [0.00848429, 0.99151571],\n",
              "        [0.00880758, 0.99119242],\n",
              "        [0.02665234, 0.97334766],\n",
              "        [0.01098324, 0.98901676],\n",
              "        [0.00866154, 0.99133846],\n",
              "        [0.00848853, 0.99151147]]), array([[0.33924677, 0.99996199],\n",
              "        [0.11589122, 0.99998746],\n",
              "        [0.51235473, 0.99904684],\n",
              "        [0.00911169, 0.98687405],\n",
              "        [0.08155035, 0.99761712],\n",
              "        [0.80045625, 0.9997254 ],\n",
              "        [0.27411692, 0.98791354],\n",
              "        [0.17100942, 0.99879056],\n",
              "        [0.44193362, 0.99997325],\n",
              "        [0.61343681, 0.99984288],\n",
              "        [0.05323969, 0.99999995],\n",
              "        [0.00908743, 0.9999982 ],\n",
              "        [0.00208489, 0.99926296],\n",
              "        [0.45424924, 0.93200221],\n",
              "        [0.00136239, 0.99999327],\n",
              "        [0.01750711, 0.99940947],\n",
              "        [0.50346307, 0.99999997],\n",
              "        [0.09105343, 0.90404942],\n",
              "        [0.01036655, 0.99999999],\n",
              "        [0.00158041, 0.99999588]]))"
            ]
          },
          "metadata": {},
          "execution_count": 88
        }
      ]
    },
    {
      "cell_type": "code",
      "source": [],
      "metadata": {
        "id": "l5jMun9rbgOg"
      },
      "execution_count": 88,
      "outputs": []
    },
    {
      "cell_type": "markdown",
      "source": [
        "Backward propogation\n"
      ],
      "metadata": {
        "id": "_rR4V_GEboOq"
      }
    },
    {
      "cell_type": "code",
      "source": [
        "#hidden layer transpose \n",
        "#actual - predicted\n",
        "def diff_wi_2(H,Z,Y):\n",
        "  return H.T.dot(Z-Y)"
      ],
      "metadata": {
        "id": "Nb4L7XYQbtbc"
      },
      "execution_count": 89,
      "outputs": []
    },
    {
      "cell_type": "code",
      "source": [
        "#diff wrt to outer later weights\n",
        "def diff_wi_1(X,H,Z,output,wi_2):\n",
        "  dz=(Z-output).dot(wi_2.T)*H*(1-H)\n",
        "  return H.T.dot(dz)"
      ],
      "metadata": {
        "id": "qPEOXigLbpVt"
      },
      "execution_count": 90,
      "outputs": []
    },
    {
      "cell_type": "code",
      "source": [
        "\n",
        "def diff_b2(Z,Y):\n",
        "  return (Z-Y).sum(axis=0)\n",
        "\n",
        "def diff_b1(Z,Y,wi_2,H):\n",
        "  return ((Z-Y).dot(wi_2.T) * H * (1-H)).sum(axis=0)"
      ],
      "metadata": {
        "id": "XVDYXg14or61"
      },
      "execution_count": 97,
      "outputs": []
    },
    {
      "cell_type": "code",
      "source": [
        "learning_rate = 0.1\n",
        "for epoch in range(4000):\n",
        "  output,hidden=forward_prop(X,wi_1,bi_1,wi_2,bi_2)\n",
        "  wi_2 += learning_rate * diff_wi_2(hidden,Z,output)\n",
        "  bi_2 += learning_rate * diff_b2(Z,output)\n",
        "  wi_1 += learning_rate * diff_wi_1(X,hidden,Z,output,wi_2).T\n",
        "  bi_1 += learning_rate * diff_b1(Z,output,wi_2,hidden)"
      ],
      "metadata": {
        "id": "4btAz2H3dnt-"
      },
      "execution_count": 93,
      "outputs": []
    },
    {
      "cell_type": "markdown",
      "source": [
        "new predicting data point\n"
      ],
      "metadata": {
        "id": "IFz3fTzsj8st"
      }
    },
    {
      "cell_type": "code",
      "source": [
        "X_test=np.array([3,2])\n",
        "hidden_output = 1 / (1+np.exp(-X_test.dot(wi_1.T) + bi_1))\n",
        "outer= hidden_output.dot(wi_2) + bi_2\n",
        "expA = np.exp(outer)\n",
        "Y = expA / expA.sum()\n",
        "print(\"prob class 0>>>> {} \\n prob of class 1>>>> ({}) \".format(Y[0],Y[1]))"
      ],
      "metadata": {
        "colab": {
          "base_uri": "https://localhost:8080/"
        },
        "id": "MgLGq4elj_4R",
        "outputId": "2c0c47ac-6890-49b2-d2cf-b9fdb1db8572"
      },
      "execution_count": 92,
      "outputs": [
        {
          "output_type": "stream",
          "name": "stdout",
          "text": [
            "prob class 0>>>> 0.0280973242284164 \n",
            " prob of class 1>>>> (0.9719026757715836) \n"
          ]
        }
      ]
    },
    {
      "cell_type": "code",
      "source": [],
      "metadata": {
        "id": "pDeLNwRWld-y"
      },
      "execution_count": null,
      "outputs": []
    },
    {
      "cell_type": "code",
      "source": [],
      "metadata": {
        "id": "pCW2VXGJpKOP"
      },
      "execution_count": null,
      "outputs": []
    }
  ]
}