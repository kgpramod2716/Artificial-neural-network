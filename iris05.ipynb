{
  "cells": [
    {
      "cell_type": "code",
      "execution_count": 3,
      "metadata": {
        "id": "F78hrapOXDF7"
      },
      "outputs": [],
      "source": [
        "import numpy as np\n",
        "import pandas as pd\n",
        "\n",
        "iris_df = pd.read_csv(\"/content/Iris.csv\")\n",
        "iris_df = iris_df.sample(frac=1).reset_index(drop=True)\n",
        "\n",
        "X = iris_df.iloc[:, :-1].values\n",
        "\n",
        "y = iris_df.iloc[:, -1].values\n",
        "\n",
        "epoch=4000\n",
        "lr=0.1\n",
        "inputlayer_neurons=5\n",
        "hiddenlayer_neurons=5\n",
        "output_neuron=1\n",
        "\n",
        "wh=np.random.uniform(size=(inputlayer_neurons,hiddenlayer_neurons))\n",
        "bh=np.random.uniform(size=(1,hiddenlayer_neurons))\n",
        "wout=np.random.uniform(size=(hiddenlayer_neurons,output_neuron))\n",
        "bout=np.random.uniform(size=(1,output_neuron))\n",
        "\n",
        "\n",
        "\n",
        "def sigmoid(x):\n",
        "    return 1 / (1 + np.exp(-x))\n",
        "\n",
        "def derivative_sigmoid(x):\n",
        "  return x*(1-x)\n",
        "\n",
        "\n",
        "\n",
        "class NeuralNetwork:\n",
        "    def __init__(self, input_size, hidden_size, output_size):\n",
        "        self.input_size = input_size\n",
        "        self.hidden_size =hidden_size\n",
        "        self.output_size = output_size\n",
        "\n",
        "      \n",
        "        self.Weight1 = np.random.randn(self.input_size, self.hidden_size)\n",
        "        self.bias1 = np.zeros((1, self.hidden_size))\n",
        "        self.Weight2 = np.random.randn(self.hidden_size, self.output_size)\n",
        "        self.bias2 = np.zeros((1, self.output_size))\n",
        "        \n",
        "    def forward(self, X):\n",
        "        \n",
        "        self.z1 = np.dot(X, self.Weight1) + self.bias1\n",
        "        self.a1 = sigmoid(self.z1)\n",
        "        self.z2 = np.dot(self.a1, self.Weight2) + self.bias2\n",
        "        self.a2 = sigmoid(self.z2)\n",
        "        return self.a2\n",
        "    \n",
        "    def backward(self, X, y, output):\n",
        "        \n",
        "        self.output_error = y - output\n",
        "        self.output_delta = self.output_error * sigmoid_deriv(self.z2)\n",
        "        \n",
        "        \n",
        "        self.hidden_error = np.dot(self.output_delta, self.Weight2.T)\n",
        "        self.hidden_delta = self.hidden_error * sigmoid_deriv(self.z1)\n",
        "        \n",
        "      \n",
        "        self.Weight2 += np.dot(self.a1.T, self.output_delta)\n",
        "        self.bias2 += np.sum(self.output_delta, axis=0, keepdims=True)\n",
        "        self.Weight1 += np.dot(X.T, self.hidden_delta)\n",
        "        self.bias1 += np.sum(self.hidden_delta, axis=0, keepdims=True)\n",
        "        \n"
      ]
    }
  ],
  "metadata": {
    "colab": {
      "provenance": []
    },
    "kernelspec": {
      "display_name": "Python 3.8.8 ('base')",
      "language": "python",
      "name": "python3"
    },
    "language_info": {
      "name": "python",
      "version": "3.8.8"
    },
    "vscode": {
      "interpreter": {
        "hash": "5ae58900cfbb8c43ab3495913814b7cf26024f51651a94ce8bf64d6111688e8d"
      }
    }
  },
  "nbformat": 4,
  "nbformat_minor": 0
}
